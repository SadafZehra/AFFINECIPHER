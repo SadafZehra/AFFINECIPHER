{
 "cells": [
  {
   "cell_type": "code",
   "execution_count": 1,
   "metadata": {},
   "outputs": [],
   "source": [
    "def affineCipherEncryption(text,key): \n",
    "    result = \"\" \n",
    "  \n",
    "    \n",
    "    for i in range(len(text)): \n",
    "        char = text[i]\n",
    "        \n",
    "        if(char.isupper()):\n",
    "            result += chr((key[0]*(ord(char)-65) + key[1]) % 26 + 65)\n",
    "        elif (char.islower()):\n",
    "        \n",
    "          result += chr((key[0]*(ord(char)-97) + key[1]) % 26 + 97)\n",
    "        else:\n",
    "            result += char\n",
    "  \n",
    "       \n",
    "    return result\n",
    "  \n"
   ]
  },
  {
   "cell_type": "code",
   "execution_count": 2,
   "metadata": {},
   "outputs": [
    {
     "name": "stdout",
     "output_type": "stream",
     "text": [
      "Plain Text  : UVOHCBN NDU OYRU WGND IXXGVU OGBDUH NUODVGEQU\n",
      "Key : [17, 20]\n",
      "Encrypted Text: WNYJCLH HTW YMXW ESHT AVVSNW YSLTWJ HWYTNSKGW\n"
     ]
    }
   ],
   "source": [
    "key_ = [17,20]\n",
    "print (\"Plain Text  : \" + \"UVOHCBN NDU OYRU WGND IXXGVU OGBDUH NUODVGEQU\" )\n",
    "print (\"Key : \" + str(key_) )\n",
    "Encrypted_Text = affineCipherEncryption(\"UVOHCBN NDU OYRU WGND IXXGVU OGBDUH NUODVGEQU\",key_)\n",
    "print (\"Encrypted Text: \" + Encrypted_Text )\n"
   ]
  },
  {
   "cell_type": "code",
   "execution_count": 3,
   "metadata": {},
   "outputs": [],
   "source": [
    "def inverse(a):\n",
    "    for i in range(25):\n",
    "        ans = (a*i) % 26\n",
    "        if (ans == 1):\n",
    "            return i\n",
    "        \n",
    "def affineCipherDecryption(encrypted_text,key):\n",
    "    plain_text = \"\"      \n",
    "    for char in encrypted_text:\n",
    "        \n",
    "    \n",
    "        if char.isupper():\n",
    "                    \n",
    "            text=chr((( inverse(key[0])*(ord(char) - 65 - key[1]))% 26) + 65) \n",
    "            plain_text = plain_text + text\n",
    "        elif char.islower():\n",
    "            \n",
    "            text=chr((( inverse(key[0])*(ord(char) - 97 - key[1]))% 26) + 97) \n",
    "            plain_text = plain_text + text\n",
    "            \n",
    "        else:\n",
    "            plain_text += char\n",
    "        \n",
    "    \n",
    "    print(\"Encrypted text\",encrypted_text) \n",
    "    print(\"Plain Text\",plain_text)\n",
    "      "
   ]
  },
  {
   "cell_type": "code",
   "execution_count": 4,
   "metadata": {},
   "outputs": [
    {
     "name": "stdout",
     "output_type": "stream",
     "text": [
      "Encrypted text WNYJCLH HTW YMXW ESHT AVVSNW YSLTWJ HWYTNSKGW\n",
      "Plain Text UVOHCBN NDU OYRU WGND IXXGVU OGBDUH NUODVGEQU\n"
     ]
    }
   ],
   "source": [
    "affineCipherDecryption(Encrypted_Text,key_)"
   ]
  },
  {
   "cell_type": "code",
   "execution_count": null,
   "metadata": {},
   "outputs": [],
   "source": []
  },
  {
   "cell_type": "code",
   "execution_count": null,
   "metadata": {},
   "outputs": [],
   "source": []
  },
  {
   "cell_type": "code",
   "execution_count": null,
   "metadata": {},
   "outputs": [],
   "source": []
  },
  {
   "cell_type": "code",
   "execution_count": null,
   "metadata": {},
   "outputs": [],
   "source": []
  },
  {
   "cell_type": "code",
   "execution_count": null,
   "metadata": {},
   "outputs": [],
   "source": []
  },
  {
   "cell_type": "code",
   "execution_count": null,
   "metadata": {},
   "outputs": [],
   "source": []
  },
  {
   "cell_type": "code",
   "execution_count": null,
   "metadata": {},
   "outputs": [],
   "source": []
  },
  {
   "cell_type": "code",
   "execution_count": null,
   "metadata": {},
   "outputs": [],
   "source": []
  },
  {
   "cell_type": "code",
   "execution_count": null,
   "metadata": {},
   "outputs": [],
   "source": []
  },
  {
   "cell_type": "code",
   "execution_count": null,
   "metadata": {},
   "outputs": [],
   "source": []
  },
  {
   "cell_type": "code",
   "execution_count": null,
   "metadata": {},
   "outputs": [],
   "source": []
  },
  {
   "cell_type": "code",
   "execution_count": null,
   "metadata": {},
   "outputs": [],
   "source": []
  },
  {
   "cell_type": "code",
   "execution_count": null,
   "metadata": {},
   "outputs": [],
   "source": []
  },
  {
   "cell_type": "code",
   "execution_count": null,
   "metadata": {},
   "outputs": [],
   "source": []
  },
  {
   "cell_type": "code",
   "execution_count": null,
   "metadata": {},
   "outputs": [],
   "source": []
  },
  {
   "cell_type": "code",
   "execution_count": null,
   "metadata": {},
   "outputs": [],
   "source": []
  },
  {
   "cell_type": "code",
   "execution_count": null,
   "metadata": {},
   "outputs": [],
   "source": []
  },
  {
   "cell_type": "code",
   "execution_count": null,
   "metadata": {},
   "outputs": [],
   "source": []
  },
  {
   "cell_type": "code",
   "execution_count": null,
   "metadata": {},
   "outputs": [],
   "source": []
  },
  {
   "cell_type": "code",
   "execution_count": null,
   "metadata": {},
   "outputs": [],
   "source": []
  },
  {
   "cell_type": "code",
   "execution_count": null,
   "metadata": {},
   "outputs": [],
   "source": []
  },
  {
   "cell_type": "code",
   "execution_count": null,
   "metadata": {},
   "outputs": [],
   "source": []
  },
  {
   "cell_type": "code",
   "execution_count": null,
   "metadata": {},
   "outputs": [],
   "source": []
  },
  {
   "cell_type": "code",
   "execution_count": null,
   "metadata": {},
   "outputs": [],
   "source": []
  },
  {
   "cell_type": "code",
   "execution_count": null,
   "metadata": {},
   "outputs": [],
   "source": []
  },
  {
   "cell_type": "code",
   "execution_count": null,
   "metadata": {},
   "outputs": [],
   "source": []
  },
  {
   "cell_type": "code",
   "execution_count": null,
   "metadata": {},
   "outputs": [],
   "source": []
  },
  {
   "cell_type": "code",
   "execution_count": null,
   "metadata": {},
   "outputs": [],
   "source": []
  },
  {
   "cell_type": "code",
   "execution_count": null,
   "metadata": {},
   "outputs": [],
   "source": []
  },
  {
   "cell_type": "code",
   "execution_count": null,
   "metadata": {},
   "outputs": [],
   "source": []
  },
  {
   "cell_type": "code",
   "execution_count": null,
   "metadata": {},
   "outputs": [],
   "source": [
    "\n"
   ]
  }
 ],
 "metadata": {
  "kernelspec": {
   "display_name": "Python 3",
   "language": "python",
   "name": "python3"
  },
  "language_info": {
   "codemirror_mode": {
    "name": "ipython",
    "version": 3
   },
   "file_extension": ".py",
   "mimetype": "text/x-python",
   "name": "python",
   "nbconvert_exporter": "python",
   "pygments_lexer": "ipython3",
   "version": "3.7.6"
  }
 },
 "nbformat": 4,
 "nbformat_minor": 4
}
